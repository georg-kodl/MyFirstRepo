{
 "cells": [
  {
   "cell_type": "code",
   "execution_count": 1,
   "id": "076fbe95-731f-4aa2-9bba-e8166c12a0bb",
   "metadata": {},
   "outputs": [
    {
     "name": "stdout",
     "output_type": "stream",
     "text": [
      "Hello, world!\n"
     ]
    }
   ],
   "source": [
    "print(\"Hello, world!\")"
   ]
  },
  {
   "cell_type": "markdown",
   "id": "96c5d058-1c11-47ee-b667-655b74fe093f",
   "metadata": {},
   "source": [
    "## My First Markdown Heading"
   ]
  },
  {
   "cell_type": "markdown",
   "id": "cb415b61-dc48-414d-824b-9714a904b4f8",
   "metadata": {},
   "source": [
    "This is some **bold** text."
   ]
  },
  {
   "cell_type": "markdown",
   "id": "6f1939bf-83c4-46ec-8bf1-73b301180f16",
   "metadata": {},
   "source": [
    "1. First\n",
    "2. Second\n",
    "3. Third"
   ]
  },
  {
   "cell_type": "code",
   "execution_count": 4,
   "id": "5beb9f26-cc19-408a-a1a1-7ea056cc747a",
   "metadata": {},
   "outputs": [],
   "source": [
    "my_var = 5"
   ]
  },
  {
   "cell_type": "code",
   "execution_count": 6,
   "id": "6ad9999a-0507-4f90-ad78-99b20f277603",
   "metadata": {},
   "outputs": [
    {
     "name": "stdout",
     "output_type": "stream",
     "text": [
      "10\n"
     ]
    }
   ],
   "source": [
    "result = my_var * 2\n",
    "print(result)"
   ]
  }
 ],
 "metadata": {
  "kernelspec": {
   "display_name": "Python 3 (ipykernel)",
   "language": "python",
   "name": "python3"
  },
  "language_info": {
   "codemirror_mode": {
    "name": "ipython",
    "version": 3
   },
   "file_extension": ".py",
   "mimetype": "text/x-python",
   "name": "python",
   "nbconvert_exporter": "python",
   "pygments_lexer": "ipython3",
   "version": "3.10.9"
  }
 },
 "nbformat": 4,
 "nbformat_minor": 5
}
